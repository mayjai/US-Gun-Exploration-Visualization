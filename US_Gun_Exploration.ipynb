{
  "nbformat": 4,
  "nbformat_minor": 0,
  "metadata": {
    "colab": {
      "name": "US-Gun-Exploration.ipynb",
      "version": "0.3.2",
      "provenance": [],
      "collapsed_sections": [],
      "include_colab_link": true
    },
    "kernelspec": {
      "name": "python3",
      "display_name": "Python 3"
    }
  },
  "cells": [
    {
      "cell_type": "markdown",
      "metadata": {
        "id": "view-in-github",
        "colab_type": "text"
      },
      "source": [
        "<a href=\"https://colab.research.google.com/github/ttussing/US-Gun-Exploration-Visualization/blob/master/US_Gun_Exploration.ipynb\" target=\"_parent\"><img src=\"https://colab.research.google.com/assets/colab-badge.svg\" alt=\"Open In Colab\"/></a>"
      ]
    },
    {
      "cell_type": "code",
      "metadata": {
        "id": "GcY_GMxxwXwu",
        "colab_type": "code",
        "colab": {}
      },
      "source": [
        "#Things to do \n",
        "#Describe how we gathered and cleaned the data \n",
        "#2-3 datasets \n",
        "#Feature Engineering \n",
        "#Describe features \n",
        "#Descriptive statistics \n",
        "#Describe why we chose the data? "
      ],
      "execution_count": 0,
      "outputs": []
    },
    {
      "cell_type": "code",
      "metadata": {
        "id": "XbelxWO-wdh3",
        "colab_type": "code",
        "colab": {}
      },
      "source": [
        "import pandas as pd\n",
        "import numpy as np"
      ],
      "execution_count": 0,
      "outputs": []
    },
    {
      "cell_type": "code",
      "metadata": {
        "id": "SYQpnPLD2a7A",
        "colab_type": "code",
        "colab": {}
      },
      "source": [
        "world_url = 'https://raw.githubusercontent.com/ttussing/US-Gun-Exploration-Visualization/master/World_firearms.csv'\n",
        "state_url = 'https://raw.githubusercontent.com/ttussing/US-Gun-Exploration-Visualization/master/Firearm%20Deaths%20Per%20State%20Per%20Year/All_Firearm_Deaths_State_Year.csv'\n",
        "state_owner_url = 'https://raw.githubusercontent.com/ttussing/US-Gun-Exploration-Visualization/master/Gun%20Owner%20Stats/Gun_Owner_Statistics_Per_State.csv'\n",
        "ms_url = 'https://raw.githubusercontent.com/ttussing/US-Gun-Exploration-Visualization/master/Mass%20Shooting/Mass_Shooting_Data_2013-2019.csv'\n",
        "df_world = pd.read_csv(world_url)\n",
        "df_state = pd.read_csv(state_url)\n",
        "df_st_owner = pd.read_csv(state_owner_url)\n",
        "df_ms = pd.read_csv(ms_url)"
      ],
      "execution_count": 0,
      "outputs": []
    },
    {
      "cell_type": "markdown",
      "metadata": {
        "id": "TPD2Dokp_a6c",
        "colab_type": "text"
      },
      "source": [
        "## World Firearms Data\n",
        "**Allows us to see which countries have the highest firearm ownership rates and which have the highest murder rates.**\n",
        "\n",
        "[Article Describing the Data Set](https://www.theguardian.com/news/datablog/2012/jul/22/gun-homicides-ownership-world-list#data)\n",
        "\n",
        "\n",
        "---\n",
        "\n",
        "\n",
        "\n",
        "**Description of the Dataset:**\n",
        "\n",
        "- A collection of data about the world's firearms murders and gun ownership statistics were compiled in a [Google Sheet](https://docs.google.com/spreadsheets/d/1chqUZHuY6cXYrRYkuE0uwXisGaYvr7durZHJhpLGycs/edit#gid=0). \n",
        "- The data is compiled from 2 data sources:\n",
        "\n",
        "  - The data on firearm homicides was collected by the UNODC through its annual crime survey. This includes the percent of homicides from using a firearm, the number of homicides from using a firearm, and the rate of homicide rate per 100,000 in the population. \n",
        "   \n",
        "  - The data on gun ownership was collected by the small arms survey. This includes the average firearms per 100 people, the average number of civilian firearms, and rank by the rate of gun ownership. The data has been normalized for a rate per 100,000 population. \n",
        "\n",
        "- Limitations:\n",
        "  - Data is missing for Russia, China, and Afghanistan\n",
        "  - While the Google Spreadsheet says that it is being automatically updated every 5 minutes, the columns for homicide per country that was collected from the UNODC doesn't have information about what year it is for.\n",
        "   - The data is from an annual crime survey, and it doesn't say if the numbers are being averaged across all years, or if the numbers are for the latest year\n",
        "  - The data from the small arms survey is only from 2007. \n",
        "\n",
        "\n",
        "**Takeaways from this Dataset:**\n",
        "\n",
        "- The United States has the highest gun ownership in the World. \n",
        "\n",
        "- Centra/South America leads on all murder stats, far ahead of US\n",
        "is ahead in murder only when filtering for high HDI countries.\n",
        "\n",
        "- The US has less than 5% of the world's population but is home to about 35-50% of the world's civilian-owned guns. "
      ]
    },
    {
      "cell_type": "code",
      "metadata": {
        "id": "BQhV2_3c8G8o",
        "colab_type": "code",
        "outputId": "0fc17fd2-cca3-4be5-8e8f-fc872b4a43ea",
        "colab": {
          "base_uri": "https://localhost:8080/",
          "height": 269
        }
      },
      "source": [
        "df_world.head()"
      ],
      "execution_count": 0,
      "outputs": [
        {
          "output_type": "execute_result",
          "data": {
            "text/html": [
              "<div>\n",
              "<style scoped>\n",
              "    .dataframe tbody tr th:only-of-type {\n",
              "        vertical-align: middle;\n",
              "    }\n",
              "\n",
              "    .dataframe tbody tr th {\n",
              "        vertical-align: top;\n",
              "    }\n",
              "\n",
              "    .dataframe thead th {\n",
              "        text-align: right;\n",
              "    }\n",
              "</style>\n",
              "<table border=\"1\" class=\"dataframe\">\n",
              "  <thead>\n",
              "    <tr style=\"text-align: right;\">\n",
              "      <th></th>\n",
              "      <th>ISO code</th>\n",
              "      <th>Source</th>\n",
              "      <th>% of homicides by firearm</th>\n",
              "      <th>Number of homicides by firearm</th>\n",
              "      <th>Homicide by firearm rate per 100,000 pop</th>\n",
              "      <th>Rank by rate of ownership</th>\n",
              "      <th>Average firearms per 100 people</th>\n",
              "      <th>Average total all civilian firearms</th>\n",
              "    </tr>\n",
              "    <tr>\n",
              "      <th>Country/Territory</th>\n",
              "      <th></th>\n",
              "      <th></th>\n",
              "      <th></th>\n",
              "      <th></th>\n",
              "      <th></th>\n",
              "      <th></th>\n",
              "      <th></th>\n",
              "      <th></th>\n",
              "    </tr>\n",
              "  </thead>\n",
              "  <tbody>\n",
              "    <tr>\n",
              "      <th>Albania</th>\n",
              "      <td>AL</td>\n",
              "      <td>CTS</td>\n",
              "      <td>65.9</td>\n",
              "      <td>56.0</td>\n",
              "      <td>1.76</td>\n",
              "      <td>70.0</td>\n",
              "      <td>8.6</td>\n",
              "      <td>270000.0</td>\n",
              "    </tr>\n",
              "    <tr>\n",
              "      <th>Algeria</th>\n",
              "      <td>DZ</td>\n",
              "      <td>CTS</td>\n",
              "      <td>4.8</td>\n",
              "      <td>20.0</td>\n",
              "      <td>0.06</td>\n",
              "      <td>78.0</td>\n",
              "      <td>7.6</td>\n",
              "      <td>1900000.0</td>\n",
              "    </tr>\n",
              "    <tr>\n",
              "      <th>Angola</th>\n",
              "      <td>AO</td>\n",
              "      <td>NaN</td>\n",
              "      <td>NaN</td>\n",
              "      <td>NaN</td>\n",
              "      <td>NaN</td>\n",
              "      <td>34.0</td>\n",
              "      <td>17.3</td>\n",
              "      <td>2800000.0</td>\n",
              "    </tr>\n",
              "    <tr>\n",
              "      <th>Anguilla</th>\n",
              "      <td>AI</td>\n",
              "      <td>WHO-MDB</td>\n",
              "      <td>24.0</td>\n",
              "      <td>1.0</td>\n",
              "      <td>7.14</td>\n",
              "      <td>NaN</td>\n",
              "      <td>NaN</td>\n",
              "      <td>NaN</td>\n",
              "    </tr>\n",
              "    <tr>\n",
              "      <th>Argentina</th>\n",
              "      <td>AR</td>\n",
              "      <td>Ministry of Justice</td>\n",
              "      <td>52.0</td>\n",
              "      <td>1198.0</td>\n",
              "      <td>3.02</td>\n",
              "      <td>62.0</td>\n",
              "      <td>10.2</td>\n",
              "      <td>3950000.0</td>\n",
              "    </tr>\n",
              "  </tbody>\n",
              "</table>\n",
              "</div>"
            ],
            "text/plain": [
              "                  ISO code  ... Average total all civilian firearms\n",
              "Country/Territory           ...                                    \n",
              "Albania                 AL  ...                            270000.0\n",
              "Algeria                 DZ  ...                           1900000.0\n",
              "Angola                  AO  ...                           2800000.0\n",
              "Anguilla                AI  ...                                 NaN\n",
              "Argentina               AR  ...                           3950000.0\n",
              "\n",
              "[5 rows x 8 columns]"
            ]
          },
          "metadata": {
            "tags": []
          },
          "execution_count": 4
        }
      ]
    },
    {
      "cell_type": "code",
      "metadata": {
        "id": "3vudiWOHFX95",
        "colab_type": "code",
        "colab": {}
      },
      "source": [
        "df_world = df_world.rename(columns={'Country/Territory':'country', \n",
        "                   'ISO code': 'iso_code',\n",
        "                   'Source' : 'source', \n",
        "                   '% of homicides by firearm' : 'percent_hom_farm',\n",
        "                   'Number of homicides by firearm' : 'num_hom_farm', \n",
        "                   'Homicide by firearm rate per 100,000 pop' : 'hom_farm_rate_100k',\n",
        "                   'Rank by rate of ownership' : \"rank_rate_ownership\",\n",
        "                   'Average firearms per 100 people' : 'avg_farm_100ppl',\n",
        "                   'Average total all civilian firearms' : 'avg_tot_civ_farm'\n",
        "                  }) \n"
      ],
      "execution_count": 0,
      "outputs": []
    },
    {
      "cell_type": "markdown",
      "metadata": {
        "id": "89VslqgdFhTV",
        "colab_type": "text"
      },
      "source": [
        "### Feature Descriptions\n",
        "\n",
        "**country:** The country name\n",
        "\n",
        "**iso_code:** unique code for every country or territory\n",
        "\n",
        "**source:** original data sources\n",
        "\n",
        "**percent_hom_farm:** percent of homicides by firearms for every country\n",
        "\n",
        "**num_hom_farm:** number of homicides by firearm\n",
        "\n",
        "**hom_farm_rate_100k:** homicide by firearm rate per 100,000 people\n",
        "\n",
        "**rank_rate_ownership:** rank by rate of ownership\n",
        "\n",
        "**avg_farm_100ppl:** average firearms per 100 people\n",
        "\n",
        "**avg_tot_civ_farm:** average of all total civilian firearms"
      ]
    },
    {
      "cell_type": "markdown",
      "metadata": {
        "id": "2UzYhKuAH6H4",
        "colab_type": "text"
      },
      "source": [
        "**Compare the homicides and firearm ownership of the US to the average across the rest of the world**"
      ]
    },
    {
      "cell_type": "code",
      "metadata": {
        "id": "HsYqjJSDHTbG",
        "colab_type": "code",
        "colab": {
          "base_uri": "https://localhost:8080/",
          "height": 80
        },
        "outputId": "023dbe77-8922-4b4b-cba2-bd6cdc1b1dbf"
      },
      "source": [
        "# Descriptive Statistics for the United States\n",
        "\n",
        "dfus = df_world[df_world.country == 'United States']\n",
        "dfus"
      ],
      "execution_count": 13,
      "outputs": [
        {
          "output_type": "execute_result",
          "data": {
            "text/html": [
              "<div>\n",
              "<style scoped>\n",
              "    .dataframe tbody tr th:only-of-type {\n",
              "        vertical-align: middle;\n",
              "    }\n",
              "\n",
              "    .dataframe tbody tr th {\n",
              "        vertical-align: top;\n",
              "    }\n",
              "\n",
              "    .dataframe thead th {\n",
              "        text-align: right;\n",
              "    }\n",
              "</style>\n",
              "<table border=\"1\" class=\"dataframe\">\n",
              "  <thead>\n",
              "    <tr style=\"text-align: right;\">\n",
              "      <th></th>\n",
              "      <th>country</th>\n",
              "      <th>iso_code</th>\n",
              "      <th>source</th>\n",
              "      <th>percent_hom_farm</th>\n",
              "      <th>num_hom_farm</th>\n",
              "      <th>hom_farm_rate_100k</th>\n",
              "      <th>rank_rate_ownership</th>\n",
              "      <th>avg_farm_100ppl</th>\n",
              "      <th>avg_tot_civ_farm</th>\n",
              "    </tr>\n",
              "  </thead>\n",
              "  <tbody>\n",
              "    <tr>\n",
              "      <th>176</th>\n",
              "      <td>United States</td>\n",
              "      <td>US</td>\n",
              "      <td>CTS</td>\n",
              "      <td>60.0</td>\n",
              "      <td>9146.0</td>\n",
              "      <td>2.97</td>\n",
              "      <td>1.0</td>\n",
              "      <td>88.8</td>\n",
              "      <td>270000000.0</td>\n",
              "    </tr>\n",
              "  </tbody>\n",
              "</table>\n",
              "</div>"
            ],
            "text/plain": [
              "           country iso_code  ... avg_farm_100ppl  avg_tot_civ_farm\n",
              "176  United States       US  ...            88.8       270000000.0\n",
              "\n",
              "[1 rows x 9 columns]"
            ]
          },
          "metadata": {
            "tags": []
          },
          "execution_count": 13
        }
      ]
    },
    {
      "cell_type": "code",
      "metadata": {
        "id": "XRSBUxCyGIZc",
        "colab_type": "code",
        "colab": {
          "base_uri": "https://localhost:8080/",
          "height": 119
        },
        "outputId": "ba2ca0cc-dacb-4859-af05-ea7e492148e9"
      },
      "source": [
        "# Clean Null values and list the average of each column across all countries\n",
        "\n",
        "print(\"Average percent of homicides by firearms for all countries is \" + str(df_world.percent_hom_farm[df_world.percent_hom_farm.isna() == False].mean()))\n",
        "print(\"Average number of homicides by firearm for all countries is \" + str(df_world.num_hom_farm[df_world.num_hom_farm.isna() == False].mean()))\n",
        "print(\"Average homicide by firearm rate for every 100k people for all countries is \" + str(df_world.hom_farm_rate_100k[df_world.hom_farm_rate_100k.isna() == False].mean()))\n",
        "print(\"Average rank_rate_ownership for all countries is \" + str(df_world.rank_rate_ownership[df_world.rank_rate_ownership.isna() == False].mean()))\n",
        "print(\"Average firearms per 100 people for all countries is \" + str(df_world.avg_farm_100ppl[df_world.avg_farm_100ppl.isna() == False].mean()))\n",
        "print(\"Average total civilians firearms for all countries is \" + str(df_world.avg_tot_civ_farm[df_world.avg_tot_civ_farm.isna() == False].mean()))"
      ],
      "execution_count": 14,
      "outputs": [
        {
          "output_type": "stream",
          "text": [
            "Average percent of homicides by firearms for all countries is 32.22931034482759\n",
            "Average number of homicides by firearm for all countries is 1100.0603448275863\n",
            "Average homicide by firearm rate for every 100k people for all countries is 4.885862068965518\n",
            "Average rank_rate_ownership for all countries is 88.9090909090909\n",
            "Average firearms per 100 people for all countries is 10.236931818181821\n",
            "Average total civilians firearms for all countries is 3659138.6363636362\n"
          ],
          "name": "stdout"
        }
      ]
    },
    {
      "cell_type": "markdown",
      "metadata": {
        "id": "8fRMQEdCrVGf",
        "colab_type": "text"
      },
      "source": [
        "## United States Firearms Data\n",
        "\n",
        "**The firearm injury related deaths per state and year due to suicides, homicides and unintentional causes.**\n",
        "\n",
        "---\n",
        "\n",
        "**Description of the Dataset:**\n",
        "\n",
        "- Data on fatal injuries due to firearm was taken from the [CDC](https://www.cdc.gov/injury/wisqars/fatal.html) fatal injury data. \n",
        "\n",
        "  - WISQARS Fatal’s mortality reports provide tables of the total numbers of injury-related deaths and the death rates per 100,000 population. The reports lists deaths according to cause (mechanism) and intent (manner) of injury by state, race, Hispanic origin, sex, and age groupings.\n",
        "  \n",
        "- Data was collected from 1999 - 2017.\n",
        "\n",
        "- Mortality data reported in WISQARS come from death certificate data reported to the National Center for Health Statistics (NCHS), CDC. NCHS collects, compiles, verifies and prepares these data for release to the public.\n",
        "\n",
        "- Data was filtered on firearms as the mechanism for 3 data exports:\n",
        "  - The intent was filtered on suicides, homicides and unintentional causes separately and exported as 3 csv files. \n",
        "  - For ease of having one dataset, these csv files were combined in excel with the intent listed under \"Type\".\n",
        "\n",
        "- Limitations: \n",
        "  - For sub-national geography, not present or publish death counts of 9 or fewer or death rates based on counts of nine or fewer are presnt as \"P\" for the value. Since these values are not reliable, they will be replaced with \"0\" for numerical representation. \n",
        "\n",
        "**citation:** Centers for Disease Control and Prevention, National Centers for Injury Prevention and Control. Web-based Injury Statistics Query and Reporting System (WISQARS) [online]. (2005) {cited 2019 May 16}. Available from: www.cdc.gov/injury/wisqars\n",
        "\n",
        "---\n",
        "Disclaimer: This data is used for a school research project to report on firearms analysis and may not be repurposed for anything other than statistical reporting and analysis. Make no attempt to learn the identity of any person or establishment included in these data.\n",
        "Make no disclosure or other use of the identity of any person or establishment discovered inadvertently and advise the NCHS Confidentiality Officer of any such discovery.\n",
        "\n",
        "\"The data source for WISQARS Fatal Injury Data Visualization is the National Vital Statistics System (NVSS) operated by the National Center for Health Statistics. WISQARS provides death counts and death rates for the United States and by state, county, age, race, Hispanic ethnicity, sex, leading cause of death, injury intent, and injury mechanism categories. WISQARS can be used to query death data for the years 2001 - 2017, of which the underlying cause of death is specified using ICD-10 codes. The National Center for Health Statistics (NCHS) in an agreement with the National Association of Public Health Statistics and Information Systems (NAPHSIS) has implemented a new, more restrictive rule for reporting state- and county-level death data for years 2008 and later from NVSS in order to avoid inadvertent disclosure of a decedent's identity. Therefore, the Statistics, Programming and Economics Branch, Division of Analysis, Research, and Practice Integration, NCIPC has modified WISQARS to accommodate the new data suppression rule; i.e., no figure, including totals, should be less than 10 in tabulations for sub-national geographic areas, regardless of the number of years combined with the 2008 and later data. Tabulations, charts, and maps produced by WISQARS using only NVSS death data for years prior to 2008 are not affected by this new rule. Therefore, queries of state-level data for years 1999 through 2007 will remain unrestricted; queries of state-level data that include 2008 or later are restricted. As a WISQARS user, please read the following data use restrictions and click \"I Agree.\" You will then be given access to this WISQARS module.\""
      ]
    },
    {
      "cell_type": "code",
      "metadata": {
        "id": "HWP9rOug8I2f",
        "colab_type": "code",
        "outputId": "0a9a803b-2f22-4cc2-a819-f0eb4a5054a6",
        "colab": {
          "base_uri": "https://localhost:8080/",
          "height": 220
        }
      },
      "source": [
        "df_state.head()"
      ],
      "execution_count": 0,
      "outputs": [
        {
          "output_type": "execute_result",
          "data": {
            "text/html": [
              "<div>\n",
              "<style scoped>\n",
              "    .dataframe tbody tr th:only-of-type {\n",
              "        vertical-align: middle;\n",
              "    }\n",
              "\n",
              "    .dataframe tbody tr th {\n",
              "        vertical-align: top;\n",
              "    }\n",
              "\n",
              "    .dataframe thead th {\n",
              "        text-align: right;\n",
              "    }\n",
              "</style>\n",
              "<table border=\"1\" class=\"dataframe\">\n",
              "  <thead>\n",
              "    <tr style=\"text-align: right;\">\n",
              "      <th></th>\n",
              "      <th>Sex</th>\n",
              "      <th>Race</th>\n",
              "      <th>State</th>\n",
              "      <th>Ethnicity</th>\n",
              "      <th>Age Group</th>\n",
              "      <th>First Year</th>\n",
              "      <th>Last Year</th>\n",
              "      <th>Cause of Death</th>\n",
              "      <th>Year</th>\n",
              "      <th>Deaths</th>\n",
              "      <th>Population</th>\n",
              "      <th>Crude Rate</th>\n",
              "      <th>Age-Adjusted Rate</th>\n",
              "    </tr>\n",
              "    <tr>\n",
              "      <th>Type</th>\n",
              "      <th></th>\n",
              "      <th></th>\n",
              "      <th></th>\n",
              "      <th></th>\n",
              "      <th></th>\n",
              "      <th></th>\n",
              "      <th></th>\n",
              "      <th></th>\n",
              "      <th></th>\n",
              "      <th></th>\n",
              "      <th></th>\n",
              "      <th></th>\n",
              "      <th></th>\n",
              "    </tr>\n",
              "  </thead>\n",
              "  <tbody>\n",
              "    <tr>\n",
              "      <th>Unitentional</th>\n",
              "      <td>Both Sexes</td>\n",
              "      <td>All Races</td>\n",
              "      <td>Alabama</td>\n",
              "      <td>Both</td>\n",
              "      <td>All Ages</td>\n",
              "      <td>1999</td>\n",
              "      <td>2017</td>\n",
              "      <td>Unintentional Firearm</td>\n",
              "      <td>1999.0</td>\n",
              "      <td>51</td>\n",
              "      <td>4430143</td>\n",
              "      <td>1.15</td>\n",
              "      <td>1.15722772</td>\n",
              "    </tr>\n",
              "    <tr>\n",
              "      <th>Unitentional</th>\n",
              "      <td>Both Sexes</td>\n",
              "      <td>All Races</td>\n",
              "      <td>Alabama</td>\n",
              "      <td>Both</td>\n",
              "      <td>All Ages</td>\n",
              "      <td>1999</td>\n",
              "      <td>2017</td>\n",
              "      <td>Unintentional Firearm</td>\n",
              "      <td>2000.0</td>\n",
              "      <td>34</td>\n",
              "      <td>4451687</td>\n",
              "      <td>0.76</td>\n",
              "      <td>0.76222845</td>\n",
              "    </tr>\n",
              "    <tr>\n",
              "      <th>Unitentional</th>\n",
              "      <td>Both Sexes</td>\n",
              "      <td>All Races</td>\n",
              "      <td>Alabama</td>\n",
              "      <td>Both</td>\n",
              "      <td>All Ages</td>\n",
              "      <td>1999</td>\n",
              "      <td>2017</td>\n",
              "      <td>Unintentional Firearm</td>\n",
              "      <td>2001.0</td>\n",
              "      <td>41</td>\n",
              "      <td>4467634</td>\n",
              "      <td>0.92</td>\n",
              "      <td>0.926071313</td>\n",
              "    </tr>\n",
              "    <tr>\n",
              "      <th>Unitentional</th>\n",
              "      <td>Both Sexes</td>\n",
              "      <td>All Races</td>\n",
              "      <td>Alabama</td>\n",
              "      <td>Both</td>\n",
              "      <td>All Ages</td>\n",
              "      <td>1999</td>\n",
              "      <td>2017</td>\n",
              "      <td>Unintentional Firearm</td>\n",
              "      <td>2002.0</td>\n",
              "      <td>45</td>\n",
              "      <td>4480089</td>\n",
              "      <td>1</td>\n",
              "      <td>0.997164737</td>\n",
              "    </tr>\n",
              "    <tr>\n",
              "      <th>Unitentional</th>\n",
              "      <td>Both Sexes</td>\n",
              "      <td>All Races</td>\n",
              "      <td>Alabama</td>\n",
              "      <td>Both</td>\n",
              "      <td>All Ages</td>\n",
              "      <td>1999</td>\n",
              "      <td>2017</td>\n",
              "      <td>Unintentional Firearm</td>\n",
              "      <td>2003.0</td>\n",
              "      <td>38</td>\n",
              "      <td>4503491</td>\n",
              "      <td>0.84</td>\n",
              "      <td>0.82537211</td>\n",
              "    </tr>\n",
              "  </tbody>\n",
              "</table>\n",
              "</div>"
            ],
            "text/plain": [
              "                     Sex       Race  ... Crude Rate Age-Adjusted Rate\n",
              "Type                                 ...                             \n",
              "Unitentional  Both Sexes  All Races  ...       1.15        1.15722772\n",
              "Unitentional  Both Sexes  All Races  ...       0.76        0.76222845\n",
              "Unitentional  Both Sexes  All Races  ...       0.92       0.926071313\n",
              "Unitentional  Both Sexes  All Races  ...          1       0.997164737\n",
              "Unitentional  Both Sexes  All Races  ...       0.84        0.82537211\n",
              "\n",
              "[5 rows x 13 columns]"
            ]
          },
          "metadata": {
            "tags": []
          },
          "execution_count": 27
        }
      ]
    },
    {
      "cell_type": "markdown",
      "metadata": {
        "id": "Q85LLsZ3-Hzf",
        "colab_type": "text"
      },
      "source": [
        "## Gun Ownership Per State\n",
        "\n",
        "**Gun Statistics per State**\n",
        "\n",
        "[Data Source](http://demographicdata.org/facts-and-figures/gun-ownership-statistics/#)\n",
        "\n",
        "\n",
        "---\n",
        "\n",
        "**Description of the Dataset:** \n",
        "\n",
        "- This dataset contains a complete set of crime rates, gun deaths and gun ownership rates. There are a total of 51 records and 12 fields which include crime types such as violent, murder, rape, robbery, assault, property, burglary, larceny and motor-related crimes. All data are grouped by state.\n",
        "\n",
        "- The only statistic we are interested in for this dataset is gun ownership column to merge with the US Firearms Data"
      ]
    },
    {
      "cell_type": "code",
      "metadata": {
        "id": "9nN1Vqye93dv",
        "colab_type": "code",
        "colab": {
          "base_uri": "https://localhost:8080/",
          "height": 238
        },
        "outputId": "2735ace8-d95e-4830-f01a-ec8c0f37f881"
      },
      "source": [
        "df_st_owner.head()"
      ],
      "execution_count": 4,
      "outputs": [
        {
          "output_type": "execute_result",
          "data": {
            "text/html": [
              "<div>\n",
              "<style scoped>\n",
              "    .dataframe tbody tr th:only-of-type {\n",
              "        vertical-align: middle;\n",
              "    }\n",
              "\n",
              "    .dataframe tbody tr th {\n",
              "        vertical-align: top;\n",
              "    }\n",
              "\n",
              "    .dataframe thead th {\n",
              "        text-align: right;\n",
              "    }\n",
              "</style>\n",
              "<table border=\"1\" class=\"dataframe\">\n",
              "  <thead>\n",
              "    <tr style=\"text-align: right;\">\n",
              "      <th></th>\n",
              "      <th>State Name</th>\n",
              "      <th>Gun Murder Rate per 100K (2010)</th>\n",
              "      <th>Gun Ownership (2007)</th>\n",
              "      <th>Violent Crime  (per 100,000) 2013</th>\n",
              "      <th>Murder and nonnegligent manslaughter (per 100K) 2013</th>\n",
              "      <th>Forcible rape (per 100K) 2013</th>\n",
              "      <th>Robbery (per 100K) 2013</th>\n",
              "      <th>Aggravated assault  (per 100K) 2013</th>\n",
              "      <th>Property Crime  (per 100K) 2013</th>\n",
              "      <th>Burglary  (per 100K) 2013</th>\n",
              "      <th>Larceny (per 100K) 2013</th>\n",
              "      <th>Motor Theft (per 100K) 2013</th>\n",
              "    </tr>\n",
              "  </thead>\n",
              "  <tbody>\n",
              "    <tr>\n",
              "      <th>0</th>\n",
              "      <td>Alabama</td>\n",
              "      <td>2.8</td>\n",
              "      <td>51.7%</td>\n",
              "      <td>449.9</td>\n",
              "      <td>7.1</td>\n",
              "      <td>26.9</td>\n",
              "      <td>104.1</td>\n",
              "      <td>311.8</td>\n",
              "      <td>3502.2</td>\n",
              "      <td>984.7</td>\n",
              "      <td>2312.8</td>\n",
              "      <td>204.8</td>\n",
              "    </tr>\n",
              "    <tr>\n",
              "      <th>1</th>\n",
              "      <td>Alaska</td>\n",
              "      <td>2.7</td>\n",
              "      <td>57.8%</td>\n",
              "      <td>603.2</td>\n",
              "      <td>4.1</td>\n",
              "      <td>79.7</td>\n",
              "      <td>86.1</td>\n",
              "      <td>433.2</td>\n",
              "      <td>2739.4</td>\n",
              "      <td>403.3</td>\n",
              "      <td>2128.0</td>\n",
              "      <td>208.1</td>\n",
              "    </tr>\n",
              "    <tr>\n",
              "      <th>2</th>\n",
              "      <td>Arizona</td>\n",
              "      <td>3.6</td>\n",
              "      <td>31.1%</td>\n",
              "      <td>428.9</td>\n",
              "      <td>5.5</td>\n",
              "      <td>34.7</td>\n",
              "      <td>112.7</td>\n",
              "      <td>276.0</td>\n",
              "      <td>3539.2</td>\n",
              "      <td>807.8</td>\n",
              "      <td>2439.1</td>\n",
              "      <td>292.3</td>\n",
              "    </tr>\n",
              "    <tr>\n",
              "      <th>3</th>\n",
              "      <td>Arkansas</td>\n",
              "      <td>3.2</td>\n",
              "      <td>55.3%</td>\n",
              "      <td>469.1</td>\n",
              "      <td>5.9</td>\n",
              "      <td>42.3</td>\n",
              "      <td>78.7</td>\n",
              "      <td>342.3</td>\n",
              "      <td>3660.1</td>\n",
              "      <td>1081.3</td>\n",
              "      <td>2384.7</td>\n",
              "      <td>194.1</td>\n",
              "    </tr>\n",
              "    <tr>\n",
              "      <th>4</th>\n",
              "      <td>California</td>\n",
              "      <td>3.4</td>\n",
              "      <td>21.3%</td>\n",
              "      <td>423.1</td>\n",
              "      <td>5.0</td>\n",
              "      <td>20.6</td>\n",
              "      <td>148.6</td>\n",
              "      <td>248.9</td>\n",
              "      <td>2758.7</td>\n",
              "      <td>646.1</td>\n",
              "      <td>1669.5</td>\n",
              "      <td>443.2</td>\n",
              "    </tr>\n",
              "  </tbody>\n",
              "</table>\n",
              "</div>"
            ],
            "text/plain": [
              "   State Name  ...  Motor Theft (per 100K) 2013\n",
              "0     Alabama  ...                        204.8\n",
              "1      Alaska  ...                        208.1\n",
              "2     Arizona  ...                        292.3\n",
              "3    Arkansas  ...                        194.1\n",
              "4  California  ...                        443.2\n",
              "\n",
              "[5 rows x 12 columns]"
            ]
          },
          "metadata": {
            "tags": []
          },
          "execution_count": 4
        }
      ]
    },
    {
      "cell_type": "markdown",
      "metadata": {
        "id": "UN3uTT9eC7Fh",
        "colab_type": "text"
      },
      "source": [
        "## Mass Shootings in the United States"
      ]
    },
    {
      "cell_type": "code",
      "metadata": {
        "id": "nP3JIPw59R-j",
        "colab_type": "code",
        "outputId": "b76083ca-ebb5-4a9c-9ecb-6b2187c46c2c",
        "colab": {
          "base_uri": "https://localhost:8080/",
          "height": 220
        }
      },
      "source": [
        "df_ms.head()"
      ],
      "execution_count": 0,
      "outputs": [
        {
          "output_type": "execute_result",
          "data": {
            "text/html": [
              "<div>\n",
              "<style scoped>\n",
              "    .dataframe tbody tr th:only-of-type {\n",
              "        vertical-align: middle;\n",
              "    }\n",
              "\n",
              "    .dataframe tbody tr th {\n",
              "        vertical-align: top;\n",
              "    }\n",
              "\n",
              "    .dataframe thead th {\n",
              "        text-align: right;\n",
              "    }\n",
              "</style>\n",
              "<table border=\"1\" class=\"dataframe\">\n",
              "  <thead>\n",
              "    <tr style=\"text-align: right;\">\n",
              "      <th></th>\n",
              "      <th>name_semicolon_delimited</th>\n",
              "      <th>killed</th>\n",
              "      <th>wounded</th>\n",
              "      <th>city</th>\n",
              "      <th>state</th>\n",
              "      <th>sources_semicolon_delimited</th>\n",
              "    </tr>\n",
              "    <tr>\n",
              "      <th>date</th>\n",
              "      <th></th>\n",
              "      <th></th>\n",
              "      <th></th>\n",
              "      <th></th>\n",
              "      <th></th>\n",
              "      <th></th>\n",
              "    </tr>\n",
              "  </thead>\n",
              "  <tbody>\n",
              "    <tr>\n",
              "      <th>5/15/19</th>\n",
              "      <td>Unkown (victims included a 5-yr-old girl)</td>\n",
              "      <td>0</td>\n",
              "      <td>4</td>\n",
              "      <td>Los Angeles</td>\n",
              "      <td>CA</td>\n",
              "      <td>https://abc7.com/3-men-5-year-old-girl-shot-at...</td>\n",
              "    </tr>\n",
              "    <tr>\n",
              "      <th>5/13/19</th>\n",
              "      <td>Unknown</td>\n",
              "      <td>4</td>\n",
              "      <td>1</td>\n",
              "      <td>St. Louis</td>\n",
              "      <td>MO</td>\n",
              "      <td>https://www.stltoday.com/news/local/crime-and-...</td>\n",
              "    </tr>\n",
              "    <tr>\n",
              "      <th>5/13/19</th>\n",
              "      <td>Unknown (victims included 1 juvenile)</td>\n",
              "      <td>0</td>\n",
              "      <td>4</td>\n",
              "      <td>New Orleans</td>\n",
              "      <td>LA</td>\n",
              "      <td>https://www.wdsu.com/article/four-injured-in-c...</td>\n",
              "    </tr>\n",
              "    <tr>\n",
              "      <th>5/12/19</th>\n",
              "      <td>Unknown</td>\n",
              "      <td>0</td>\n",
              "      <td>4</td>\n",
              "      <td>Paulsboro</td>\n",
              "      <td>NJ</td>\n",
              "      <td>https://6abc.com/5-hurt-after-gunmen-open-fire...</td>\n",
              "    </tr>\n",
              "    <tr>\n",
              "      <th>5/11/19</th>\n",
              "      <td>Thomas Modzel</td>\n",
              "      <td>0</td>\n",
              "      <td>4</td>\n",
              "      <td>Effort</td>\n",
              "      <td>PA</td>\n",
              "      <td>https://wnep.com/2019/05/11/four-people-shot-a...</td>\n",
              "    </tr>\n",
              "  </tbody>\n",
              "</table>\n",
              "</div>"
            ],
            "text/plain": [
              "                          name_semicolon_delimited  ...                        sources_semicolon_delimited\n",
              "date                                                ...                                                   \n",
              "5/15/19  Unkown (victims included a 5-yr-old girl)  ...  https://abc7.com/3-men-5-year-old-girl-shot-at...\n",
              "5/13/19                                    Unknown  ...  https://www.stltoday.com/news/local/crime-and-...\n",
              "5/13/19      Unknown (victims included 1 juvenile)  ...  https://www.wdsu.com/article/four-injured-in-c...\n",
              "5/12/19                                    Unknown  ...  https://6abc.com/5-hurt-after-gunmen-open-fire...\n",
              "5/11/19                              Thomas Modzel  ...  https://wnep.com/2019/05/11/four-people-shot-a...\n",
              "\n",
              "[5 rows x 6 columns]"
            ]
          },
          "metadata": {
            "tags": []
          },
          "execution_count": 28
        }
      ]
    },
    {
      "cell_type": "code",
      "metadata": {
        "id": "3MbSmgM49Ukl",
        "colab_type": "code",
        "colab": {}
      },
      "source": [
        ""
      ],
      "execution_count": 0,
      "outputs": []
    }
  ]
}